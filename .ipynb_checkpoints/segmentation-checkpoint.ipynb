{
 "cells": [
  {
   "cell_type": "code",
   "execution_count": 8,
   "id": "4b1cf518",
   "metadata": {},
   "outputs": [],
   "source": [
    "import tweepy\n",
    "from textblob import TextBlob\n",
    "from wordcloud import WordCloud\n",
    "import pandas as pd\n",
    "import numpy as np\n",
    "import re\n",
    "import matplotlib.pyplot as plt\n",
    "plt.style.use('fivethirtyeight')"
   ]
  },
  {
   "cell_type": "markdown",
   "id": "c1dbe70f",
   "metadata": {},
   "source": [
    "Tweeter API Credentials"
   ]
  },
  {
   "cell_type": "code",
   "execution_count": null,
   "id": "c964009b",
   "metadata": {},
   "outputs": [],
   "source": [
    "consumerKey='BJEzhn7gh1JGE7X0dqsfuXkik'\n",
    "consumerSecret='MDCgoEiQ5IgL60ixSck7FfuUciHQJUM88cGD5R3RrxjbTUiv1I'\n",
    "accessToken="
   ]
  }
 ],
 "metadata": {
  "kernelspec": {
   "display_name": "Python 3 (ipykernel)",
   "language": "python",
   "name": "python3"
  },
  "language_info": {
   "codemirror_mode": {
    "name": "ipython",
    "version": 3
   },
   "file_extension": ".py",
   "mimetype": "text/x-python",
   "name": "python",
   "nbconvert_exporter": "python",
   "pygments_lexer": "ipython3",
   "version": "3.10.9"
  }
 },
 "nbformat": 4,
 "nbformat_minor": 5
}
